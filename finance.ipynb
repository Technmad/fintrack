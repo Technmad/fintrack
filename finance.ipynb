{
 "cells": [
  {
   "cell_type": "code",
   "execution_count": null,
   "id": "1609bcdb",
   "metadata": {},
   "outputs": [],
   "source": [
    "# pip install yfinance\n",
    "# pip install plotly\n",
    "# pip install voila"
   ]
  },
  {
   "cell_type": "markdown",
   "id": "dacc0e39",
   "metadata": {},
   "source": [
    "# Fintrack \n",
    "\n",
    "## A website built to track  live changes in your favourite stock "
   ]
  },
  {
   "cell_type": "code",
   "execution_count": null,
   "id": "7b364770",
   "metadata": {},
   "outputs": [],
   "source": [
    "import yfinance as yf\n",
    "import plotly.graph_objs as plt\n",
    "\n",
    "#tsla = yf.Ticker('TSLA')   \n",
    "#print(tsla)\n",
    "#print(tsla.info)\n",
    "#data = yf.download(tickers='TSLA', period='1d', interval='1m')\n",
    "#print(data)\n",
    "\n",
    "data = yf.download(tickers='TSLA', period='1d', interval='1m')\n",
    "#print(data)\n",
    "\n",
    "fig = plt.Figure(data=[plt.Candlestick(x=data.index,\n",
    "                open=data['Open'],\n",
    "                high=data['High'],\n",
    "                low=data['Low'],\n",
    "                close=data['Close'], name = 'TESLA Live Market Data')])\n",
    "\n",
    "###OPTIONAL\n",
    "fig.update_layout(\n",
    "    title='TESLA Live Market Data',\n",
    "    yaxis_title='Stock Price in $')\n",
    "\n",
    "fig.update_xaxes(\n",
    "    rangeslider_visible=True,\n",
    "    rangeselector=dict(\n",
    "        buttons=list([\n",
    "            dict(count=15, label=\"15m\", step=\"minute\", stepmode=\"backward\"),\n",
    "            dict(count=20, label=\"30m\", step=\"minute\", stepmode=\"backward\"),\n",
    "            dict(count=1, label=\"1h\", step=\"hour\", stepmode=\"backward\"),\n",
    "            dict(count=4, label=\"4h\", step=\"hour\", stepmode=\"backward\"),\n",
    "            dict(step=\"all\")\n",
    "        ])\n",
    "    )\n",
    ")\n",
    "\n",
    "fig.show()"
   ]
  },
  {
   "cell_type": "code",
   "execution_count": null,
   "id": "8d7ca953",
   "metadata": {},
   "outputs": [],
   "source": []
  }
 ],
 "metadata": {
  "kernelspec": {
   "display_name": "Python 3 (ipykernel)",
   "language": "python",
   "name": "python3"
  },
  "language_info": {
   "codemirror_mode": {
    "name": "ipython",
    "version": 3
   },
   "file_extension": ".py",
   "mimetype": "text/x-python",
   "name": "python",
   "nbconvert_exporter": "python",
   "pygments_lexer": "ipython3",
   "version": "3.10.12"
  }
 },
 "nbformat": 4,
 "nbformat_minor": 5
}
